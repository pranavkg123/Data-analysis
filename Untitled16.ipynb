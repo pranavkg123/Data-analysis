{
  "nbformat": 4,
  "nbformat_minor": 0,
  "metadata": {
    "colab": {
      "provenance": [],
      "authorship_tag": "ABX9TyM8ABpu1p3dtdsHdR9ZoRup"
    },
    "kernelspec": {
      "name": "python3",
      "display_name": "Python 3"
    },
    "language_info": {
      "name": "python"
    }
  },
  "cells": [
    {
      "cell_type": "code",
      "execution_count": 1,
      "metadata": {
        "colab": {
          "base_uri": "https://localhost:8080/"
        },
        "id": "jj32jfHF12_z",
        "outputId": "a0096f63-6108-4aa7-eead-4b613ef890d8"
      },
      "outputs": [
        {
          "output_type": "stream",
          "name": "stdout",
          "text": [
            "ANOVA Table:\n",
            "                                 sum_sq   df           F        PR(>F)\n",
            "C(Fertilizer)                108.000000  1.0   54.000000  8.005674e-05\n",
            "C(Irrigation)                800.333333  1.0  400.166667  4.067255e-08\n",
            "C(Fertilizer):C(Irrigation)    5.333333  1.0    2.666667  1.411133e-01\n",
            "Residual                      16.000000  8.0         NaN           NaN\n",
            "\n",
            "Interpretation:\n",
            "The effect of C(Fertilizer) is statistically significant (p = 0.0001).\n",
            "The effect of C(Irrigation) is statistically significant (p = 0.0000).\n",
            "The effect of C(Fertilizer):C(Irrigation) is NOT statistically significant (p = 0.1411).\n",
            "The effect of Residual is NOT statistically significant (p = nan).\n"
          ]
        }
      ],
      "source": [
        "import pandas as pd\n",
        "import statsmodels.api as sm\n",
        "from statsmodels.formula.api import ols\n",
        "\n",
        "# Create a new dataset\n",
        "data = {\n",
        "    'Fertilizer': ['A', 'A', 'A', 'A', 'B', 'B', 'B', 'B', 'A', 'A', 'B', 'B'],\n",
        "    'Irrigation': ['Low', 'Low', 'High', 'High', 'Low', 'Low', 'High', 'High', 'Low', 'High', 'Low', 'High'],\n",
        "    'Yield': [45, 48, 60, 63, 50, 53, 68, 70, 47, 62, 51, 69]\n",
        "}\n",
        "\n",
        "df = pd.DataFrame(data)\n",
        "# Perform Two-Way ANOVA\n",
        "model = ols('Yield ~ C(Fertilizer) + C(Irrigation) + C(Fertilizer):C(Irrigation)', data=df).fit()\n",
        "anova_table = sm.stats.anova_lm(model, typ=2)\n",
        "\n",
        "# Display the ANOVA table\n",
        "print(\"ANOVA Table:\")\n",
        "print(anova_table)\n",
        "\n",
        "# Interpretation of results\n",
        "alpha = 0.05\n",
        "print(\"\\nInterpretation:\")\n",
        "for factor in anova_table.index:\n",
        "    p_value = anova_table.loc[factor, 'PR(>F)']\n",
        "    if p_value <= alpha:\n",
        "        print(f\"The effect of {factor} is statistically significant (p = {p_value:.4f}).\")\n",
        "    else:\n",
        "        print(f\"The effect of {factor} is NOT statistically significant (p = {p_value:.4f}).\")"
      ]
    },
    {
      "cell_type": "code",
      "source": [
        "import pandas as pd\n",
        "import statsmodels.api as sm\n",
        "from statsmodels.formula.api import ols\n",
        "\n",
        "data = {\n",
        "    'Exercise': ['Aerobic', 'Aerobic', 'Aerobic', 'Aerobic',\n",
        "                 'Strength', 'Strength', 'Strength', 'Strength',\n",
        "                 'Aerobic', 'Aerobic', 'Strength', 'Strength'],\n",
        "    'Diet': ['Vegetarian', 'Vegetarian', 'Non-Vegetarian', 'Non-Vegetarian',\n",
        "             'Vegetarian', 'Vegetarian', 'Non-Vegetarian', 'Non-Vegetarian',\n",
        "             'Vegetarian', 'Non-Vegetarian', 'Vegetarian', 'Non-Vegetarian'],\n",
        "    'WeightLoss': [3.2, 3.5, 2.8, 3.0, 4.0, 4.2, 3.6, 3.9, 3.3, 2.9,\n",
        "4.1, 3.8]\n",
        "}\n",
        "\n",
        "df=pd.DataFrame(data)\n",
        "model=ols('WeightLoss~C(Exercise)+C(Diet)+C(Exercise):C(Diet)',data=df).fit()\n",
        "anova_table=sm.stats.anova_lm(model,typ=2)\n",
        "print(\"ANOVA_table\")\n",
        "print(anova_table)\n",
        "\n",
        "alpha = 0.05\n",
        "print(\"\\nInterpretation:\")\n",
        "for factor in anova_table.index:\n",
        "    p_value = anova_table.loc[factor, 'PR(>F)']\n",
        "    if p_value <=alpha:\n",
        "        print(f\"The effect of {factor} is statistically significant (p = {p_value:.4f}).\")\n",
        "    else:\n",
        "        print(f\"The effect of {factor} is NOT statistically significant (p = {p_value:.4f}).\")"
      ],
      "metadata": {
        "colab": {
          "base_uri": "https://localhost:8080/"
        },
        "id": "T549t-fM7eCe",
        "outputId": "ea7723bc-226a-424e-9d04-1a3ea03b5f65"
      },
      "execution_count": 2,
      "outputs": [
        {
          "output_type": "stream",
          "name": "stdout",
          "text": [
            "ANOVA_table\n",
            "                       sum_sq   df       F    PR(>F)\n",
            "C(Exercise)          2.000833  1.0  120.05  0.000004\n",
            "C(Diet)              0.440833  1.0   26.45  0.000882\n",
            "C(Exercise):C(Diet)  0.007500  1.0    0.45  0.521227\n",
            "Residual             0.133333  8.0     NaN       NaN\n",
            "\n",
            "Interpretation:\n",
            "The effect of C(Exercise) is statistically significant (p = 0.0000).\n",
            "The effect of C(Diet) is statistically significant (p = 0.0009).\n",
            "The effect of C(Exercise):C(Diet) is NOT statistically significant (p = 0.5212).\n",
            "The effect of Residual is NOT statistically significant (p = nan).\n"
          ]
        }
      ]
    },
    {
      "cell_type": "code",
      "source": [
        "import pandas as pd\n",
        "from scipy import stats\n",
        "\n",
        "\n",
        "data = {\n",
        "    'group': ['email_A'] * 100 + ['email_B'] * 100,\n",
        "    'clicked': [1, 0, 0, 1, 1, 0, 0, 1, 1, 0] * 10 + [1, 1, 0, 1, 1, 1, 1, 0, 1, 1] * 10\n",
        "}\n",
        "\n",
        "df = pd.DataFrame(data)\n",
        "\n",
        "# Separate the data into control and treatment groups\n",
        "control = df[df['group'] == 'email_A']\n",
        "treatment = df[df['group'] == 'email_B']\n",
        "# Calculate Click-Through Rates (CTR)\n",
        "control_ctr = control['clicked'].mean()\n",
        "treatment_ctr = treatment['clicked'].mean()\n",
        "\n",
        "t_stat, p_value = stats.ttest_ind(control['clicked'], treatment['clicked'], equal_var=False)\n",
        "\n",
        "print(\"Metric: Click-Through Rate (CTR)\")\n",
        "print(\"Control CTR (email_A):\", control_ctr)\n",
        "print(\"Treatment CTR (email_B):\", treatment_ctr)\n",
        "print(\"t-statistic:\", t_stat)\n",
        "print(\"p-value:\", p_value)\n",
        "\n",
        "alpha = 0.05\n",
        "if p_value < alpha:\n",
        "    print(\"Reject H0: The CTR is significantly different between email_A and email_B.\")\n",
        "    if treatment_ctr > control_ctr:\n",
        "        print(\"email_B has a higher CTR.\")\n",
        "    else:\n",
        "        print(\"email_A has a higher CTR.\")\n",
        "else:\n",
        "    print(\"Fail to reject H0: The CTR is not significantly different between email_A and email_B.\")"
      ],
      "metadata": {
        "colab": {
          "base_uri": "https://localhost:8080/"
        },
        "id": "0bTG2_GnDgPC",
        "outputId": "0d2634e5-deb9-4787-8370-fa87c973f56c"
      },
      "execution_count": 3,
      "outputs": [
        {
          "output_type": "stream",
          "name": "stdout",
          "text": [
            "Metric: Click-Through Rate (CTR)\n",
            "Control CTR (email_A): 0.5\n",
            "Treatment CTR (email_B): 0.8\n",
            "t-statistic: -4.66172793254531\n",
            "p-value: 5.9132881491861184e-06\n",
            "Reject H0: The CTR is significantly different between email_A and email_B.\n",
            "email_B has a higher CTR.\n"
          ]
        }
      ]
    }
  ]
}